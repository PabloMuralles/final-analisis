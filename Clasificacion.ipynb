{
 "cells": [
  {
   "cell_type": "code",
   "execution_count": 1,
   "metadata": {},
   "outputs": [],
   "source": [
    "import numpy as np\n",
    "import matplotlib.pyplot as plt\n",
    "import pandas as pd\n",
    "import sklearn\n",
    "from sklearn.preprocessing import LabelEncoder\n",
    "import os\n",
    "import pyodbc"
   ]
  },
  {
   "cell_type": "markdown",
   "metadata": {},
   "source": [
    "## SQL Connection"
   ]
  },
  {
   "cell_type": "code",
   "execution_count": 2,
   "metadata": {},
   "outputs": [],
   "source": [
    "# Had to increase timeout\n",
    "connection = pyodbc.connect('Driver={SQL Server};'\n",
    "'Server=LAPTOP-E8KMOCEO;'\n",
    "'Database=RepuestosWeb;'\n",
    "'Trusted_Connection=yes;', timeout=5000)"
   ]
  },
  {
   "cell_type": "markdown",
   "metadata": {},
   "source": [
    "## CantidadCotizacionEncimaPromedio"
   ]
  },
  {
   "cell_type": "markdown",
   "metadata": {},
   "source": [
    "### Data preparation"
   ]
  },
  {
   "cell_type": "code",
   "execution_count": 45,
   "metadata": {},
   "outputs": [
    {
     "data": {
      "text/html": [
       "<div>\n",
       "<style scoped>\n",
       "    .dataframe tbody tr th:only-of-type {\n",
       "        vertical-align: middle;\n",
       "    }\n",
       "\n",
       "    .dataframe tbody tr th {\n",
       "        vertical-align: top;\n",
       "    }\n",
       "\n",
       "    .dataframe thead th {\n",
       "        text-align: right;\n",
       "    }\n",
       "</style>\n",
       "<table border=\"1\" class=\"dataframe\">\n",
       "  <thead>\n",
       "    <tr style=\"text-align: right;\">\n",
       "      <th></th>\n",
       "      <th>ID_Categoria</th>\n",
       "      <th>ID_Parte</th>\n",
       "      <th>Ciudad</th>\n",
       "      <th>TotalEncimaPromedio</th>\n",
       "    </tr>\n",
       "  </thead>\n",
       "  <tbody>\n",
       "    <tr>\n",
       "      <th>0</th>\n",
       "      <td>896</td>\n",
       "      <td>*681MISC</td>\n",
       "      <td>El Paso</td>\n",
       "      <td>0</td>\n",
       "    </tr>\n",
       "    <tr>\n",
       "      <th>1</th>\n",
       "      <td>2079</td>\n",
       "      <td>AC1029100-ORIG.REC</td>\n",
       "      <td>Arlington</td>\n",
       "      <td>0</td>\n",
       "    </tr>\n",
       "    <tr>\n",
       "      <th>2</th>\n",
       "      <td>455</td>\n",
       "      <td>ABP1995UK2</td>\n",
       "      <td>Raleigh</td>\n",
       "      <td>0</td>\n",
       "    </tr>\n",
       "    <tr>\n",
       "      <th>3</th>\n",
       "      <td>434</td>\n",
       "      <td>ABPC4243</td>\n",
       "      <td>Los Angeles</td>\n",
       "      <td>1</td>\n",
       "    </tr>\n",
       "    <tr>\n",
       "      <th>4</th>\n",
       "      <td>1274</td>\n",
       "      <td>ABP5747</td>\n",
       "      <td>Las Vegas</td>\n",
       "      <td>0</td>\n",
       "    </tr>\n",
       "  </tbody>\n",
       "</table>\n",
       "</div>"
      ],
      "text/plain": [
       "   ID_Categoria            ID_Parte       Ciudad  TotalEncimaPromedio\n",
       "0           896            *681MISC      El Paso                    0\n",
       "1          2079  AC1029100-ORIG.REC    Arlington                    0\n",
       "2           455          ABP1995UK2      Raleigh                    0\n",
       "3           434            ABPC4243  Los Angeles                    1\n",
       "4          1274             ABP5747    Las Vegas                    0"
      ]
     },
     "execution_count": 45,
     "metadata": {},
     "output_type": "execute_result"
    }
   ],
   "source": [
    "#create dataframe\n",
    "df_avgCantCotizacion = pd.read_sql('select * from VW_CantidadCotizacionEncimaPromedio', connection)\n",
    "df_avgCantCotizacion.head(5)"
   ]
  },
  {
   "cell_type": "code",
   "execution_count": 46,
   "metadata": {},
   "outputs": [],
   "source": [
    "#variables\n",
    "x_avgCantCotizacion = df_avgCantCotizacion.iloc[:, 0:3].values\n",
    "y_avgCantCotizacion = df_avgCantCotizacion.iloc[:, -1].values"
   ]
  },
  {
   "cell_type": "code",
   "execution_count": 47,
   "metadata": {},
   "outputs": [],
   "source": [
    "#Ecoding\n",
    "le = LabelEncoder()\n",
    "x_avgCantCotizacion[:,0] = le.fit_transform(x_avgCantCotizacion[:,0])\n",
    "x_avgCantCotizacion[:,1] = le.fit_transform(x_avgCantCotizacion[:,1])\n",
    "x_avgCantCotizacion[:,2] = le.fit_transform(x_avgCantCotizacion[:,2])"
   ]
  },
  {
   "cell_type": "code",
   "execution_count": 48,
   "metadata": {},
   "outputs": [],
   "source": [
    "#Data splitting\n",
    "from sklearn.model_selection import train_test_split\n",
    "(x_avgCantCotizacion_train,\n",
    "x_avgCantCotizacion_test,\n",
    "y_avgCantCotizacion_train,\n",
    "y_avgCantCotizacion_test) = train_test_split(x_avgCantCotizacion, y_avgCantCotizacion, test_size=0.20, random_state=0)"
   ]
  },
  {
   "cell_type": "markdown",
   "metadata": {},
   "source": [
    "### Decision Tree"
   ]
  },
  {
   "cell_type": "code",
   "execution_count": 54,
   "metadata": {},
   "outputs": [
    {
     "data": {
      "text/plain": [
       "array([0, 0, 0, ..., 0, 0, 0], dtype=int64)"
      ]
     },
     "execution_count": 54,
     "metadata": {},
     "output_type": "execute_result"
    }
   ],
   "source": [
    "#Create decision tree\n",
    "from sklearn.tree import DecisionTreeClassifier\n",
    "DT_avgCantCotizacion_classifier = DecisionTreeClassifier()\n",
    "DT_avgCantCotizacion_classifier.fit(x_avgCantCotizacion_train, y_avgCantCotizacion_train)\n",
    "\n",
    "#Predict\n",
    "DT_avgCantCotizacion_pred = DT_avgCantCotizacion_classifier.predict(x_avgCantCotizacion_test)\n",
    "DT_avgCantCotizacion_pred"
   ]
  },
  {
   "cell_type": "code",
   "execution_count": 55,
   "metadata": {},
   "outputs": [],
   "source": [
    "#Create confusion and precision matrix\n",
    "from sklearn.metrics import confusion_matrix, accuracy_score\n",
    "avgCantCotizacion_cm = confusion_matrix(y_avgCantCotizacion_test, DT_avgCantCotizacion_pred)\n",
    "avgCantCotizacion_ac = accuracy_score(y_avgCantCotizacion_test, DT_avgCantCotizacion_pred)"
   ]
  },
  {
   "cell_type": "code",
   "execution_count": 56,
   "metadata": {},
   "outputs": [
    {
     "data": {
      "text/plain": [
       "array([[2053,  195],\n",
       "       [ 193,   17]], dtype=int64)"
      ]
     },
     "execution_count": 56,
     "metadata": {},
     "output_type": "execute_result"
    }
   ],
   "source": [
    "#Confusion matrix\n",
    "avgCantCotizacion_cm"
   ]
  },
  {
   "cell_type": "code",
   "execution_count": 57,
   "metadata": {},
   "outputs": [
    {
     "data": {
      "text/plain": [
       "0.8421480878763222"
      ]
     },
     "execution_count": 57,
     "metadata": {},
     "output_type": "execute_result"
    }
   ],
   "source": [
    "#Accuracy\n",
    "avgCantCotizacion_ac"
   ]
  },
  {
   "cell_type": "markdown",
   "metadata": {},
   "source": [
    "### Random Forest"
   ]
  },
  {
   "cell_type": "code",
   "execution_count": 63,
   "metadata": {},
   "outputs": [],
   "source": [
    "from sklearn.ensemble import RandomForestClassifier\n",
    "import sklearn.metrics as metrics"
   ]
  },
  {
   "cell_type": "code",
   "execution_count": 64,
   "metadata": {},
   "outputs": [
    {
     "data": {
      "text/plain": [
       "RandomForestClassifier(criterion='entropy', random_state=42)"
      ]
     },
     "execution_count": 64,
     "metadata": {},
     "output_type": "execute_result"
    }
   ],
   "source": [
    "#Create random forest\n",
    "RF_avgCantCotizacion_classifier = RandomForestClassifier(criterion = 'entropy', random_state = 42)\n",
    "RF_avgCantCotizacion_classifier.fit(x_avgCantCotizacion_train, y_avgCantCotizacion_train)"
   ]
  },
  {
   "cell_type": "code",
   "execution_count": 65,
   "metadata": {},
   "outputs": [],
   "source": [
    "#Predict\n",
    "RF_avgCantCotizacion_pred = RF_avgCantCotizacion_classifier.predict(x_avgCantCotizacion_test)"
   ]
  },
  {
   "cell_type": "code",
   "execution_count": 66,
   "metadata": {},
   "outputs": [
    {
     "name": "stdout",
     "output_type": "stream",
     "text": [
      "Testing Set Evaluation F1-Score=> 0.9080553295362083\n"
     ]
    }
   ],
   "source": [
    "#Accuracy\n",
    "print('Testing Set Evaluation F1-Score=>',metrics.accuracy_score(y_avgCantCotizacion_test,RF_avgCantCotizacion_pred))"
   ]
  },
  {
   "cell_type": "markdown",
   "metadata": {},
   "source": [
    "## CantidadPartesEncimaPromedio"
   ]
  },
  {
   "cell_type": "markdown",
   "metadata": {},
   "source": [
    "### Data preparation"
   ]
  },
  {
   "cell_type": "code",
   "execution_count": null,
   "metadata": {},
   "outputs": [
    {
     "data": {
      "text/html": [
       "<div>\n",
       "<style scoped>\n",
       "    .dataframe tbody tr th:only-of-type {\n",
       "        vertical-align: middle;\n",
       "    }\n",
       "\n",
       "    .dataframe tbody tr th {\n",
       "        vertical-align: top;\n",
       "    }\n",
       "\n",
       "    .dataframe thead th {\n",
       "        text-align: right;\n",
       "    }\n",
       "</style>\n",
       "<table border=\"1\" class=\"dataframe\">\n",
       "  <thead>\n",
       "    <tr style=\"text-align: right;\">\n",
       "      <th></th>\n",
       "      <th>NombreCiudad</th>\n",
       "      <th>Genero</th>\n",
       "      <th>ID_Parte</th>\n",
       "      <th>ID_Categoria</th>\n",
       "      <th>TotalCantidadEncimaPromedio</th>\n",
       "    </tr>\n",
       "  </thead>\n",
       "  <tbody>\n",
       "    <tr>\n",
       "      <th>0</th>\n",
       "      <td>San Diego</td>\n",
       "      <td>M</td>\n",
       "      <td>AC1100173CORE-ORIG.REC</td>\n",
       "      <td>1612</td>\n",
       "      <td>0</td>\n",
       "    </tr>\n",
       "    <tr>\n",
       "      <th>1</th>\n",
       "      <td>Tacoma</td>\n",
       "      <td>F</td>\n",
       "      <td>AC1320108-ORIG.REC</td>\n",
       "      <td>2827</td>\n",
       "      <td>0</td>\n",
       "    </tr>\n",
       "    <tr>\n",
       "      <th>2</th>\n",
       "      <td>Akron</td>\n",
       "      <td>M</td>\n",
       "      <td>AC1228119-ORIG.REC</td>\n",
       "      <td>3154</td>\n",
       "      <td>0</td>\n",
       "    </tr>\n",
       "    <tr>\n",
       "      <th>3</th>\n",
       "      <td>Richmond</td>\n",
       "      <td>M</td>\n",
       "      <td>AC1217107</td>\n",
       "      <td>3225</td>\n",
       "      <td>0</td>\n",
       "    </tr>\n",
       "    <tr>\n",
       "      <th>4</th>\n",
       "      <td>Dallas</td>\n",
       "      <td>F</td>\n",
       "      <td>AC2519105-ORIG.REC</td>\n",
       "      <td>4241</td>\n",
       "      <td>0</td>\n",
       "    </tr>\n",
       "  </tbody>\n",
       "</table>\n",
       "</div>"
      ],
      "text/plain": [
       "  NombreCiudad Genero                ID_Parte  ID_Categoria  \\\n",
       "0    San Diego      M  AC1100173CORE-ORIG.REC          1612   \n",
       "1       Tacoma      F      AC1320108-ORIG.REC          2827   \n",
       "2        Akron      M      AC1228119-ORIG.REC          3154   \n",
       "3     Richmond      M               AC1217107          3225   \n",
       "4       Dallas      F      AC2519105-ORIG.REC          4241   \n",
       "\n",
       "   TotalCantidadEncimaPromedio  \n",
       "0                            0  \n",
       "1                            0  \n",
       "2                            0  \n",
       "3                            0  \n",
       "4                            0  "
      ]
     },
     "execution_count": 7,
     "metadata": {},
     "output_type": "execute_result"
    }
   ],
   "source": [
    "#create dataframe\n",
    "df_avgCantPartes = pd.read_sql('select * from VW_CantidadPartesEncimaPromedio', connection)\n",
    "df_avgCantPartes.head(5)"
   ]
  },
  {
   "cell_type": "code",
   "execution_count": null,
   "metadata": {},
   "outputs": [],
   "source": [
    "#variables\n",
    "x_avgCantPartes = df_avgCantPartes.iloc[:, 0:4].values\n",
    "y_avgCantPartes = df_avgCantPartes.iloc[:, -1].values"
   ]
  },
  {
   "cell_type": "code",
   "execution_count": null,
   "metadata": {},
   "outputs": [],
   "source": [
    "#Ecoding\n",
    "le = LabelEncoder()\n",
    "x_avgCantPartes[:,0] = le.fit_transform(x_avgCantPartes[:,0])\n",
    "x_avgCantPartes[:,1] = le.fit_transform(x_avgCantPartes[:,1])\n",
    "x_avgCantPartes[:,2] = le.fit_transform(x_avgCantPartes[:,2])\n",
    "x_avgCantPartes[:,3] = le.fit_transform(x_avgCantPartes[:,3])"
   ]
  },
  {
   "cell_type": "code",
   "execution_count": null,
   "metadata": {},
   "outputs": [],
   "source": [
    "#Data splitting\n",
    "from sklearn.model_selection import train_test_split\n",
    "(x_avgCantPartes_train,\n",
    "x_avgCantPartes_test,\n",
    "y_avgCantPartes_train,\n",
    "y_avgCantPartes_test) = train_test_split(x_avgCantPartes, y_avgCantPartes, test_size=0.20, random_state=0)"
   ]
  },
  {
   "cell_type": "markdown",
   "metadata": {},
   "source": [
    "### Decision Tree"
   ]
  },
  {
   "cell_type": "code",
   "execution_count": 67,
   "metadata": {},
   "outputs": [
    {
     "data": {
      "text/plain": [
       "array([0, 0, 0, ..., 0, 0, 0], dtype=int64)"
      ]
     },
     "execution_count": 67,
     "metadata": {},
     "output_type": "execute_result"
    }
   ],
   "source": [
    "#Create decision tree\n",
    "from sklearn.tree import DecisionTreeClassifier\n",
    "DT_avgCantPartes_classifier = DecisionTreeClassifier()\n",
    "DT_avgCantPartes_classifier.fit(x_avgCantPartes_train, y_avgCantPartes_train)\n",
    "\n",
    "#Predict\n",
    "DT_avgCantPartes_pred = DT_avgCantPartes_classifier.predict(x_avgCantPartes_test)\n",
    "DT_avgCantPartes_pred"
   ]
  },
  {
   "cell_type": "code",
   "execution_count": 68,
   "metadata": {},
   "outputs": [],
   "source": [
    "#Create confusion and precision matrix\n",
    "from sklearn.metrics import confusion_matrix, accuracy_score\n",
    "avgCantPartes_cm = confusion_matrix(y_avgCantPartes_test, DT_avgCantPartes_pred)\n",
    "avgCantPartes_ac = accuracy_score(y_avgCantPartes_test, DT_avgCantPartes_pred)"
   ]
  },
  {
   "cell_type": "code",
   "execution_count": 69,
   "metadata": {},
   "outputs": [
    {
     "data": {
      "text/plain": [
       "array([[1958,  221],\n",
       "       [ 177,   26]], dtype=int64)"
      ]
     },
     "execution_count": 69,
     "metadata": {},
     "output_type": "execute_result"
    }
   ],
   "source": [
    "#Confusion matrix\n",
    "avgCantPartes_cm"
   ]
  },
  {
   "cell_type": "code",
   "execution_count": 70,
   "metadata": {},
   "outputs": [
    {
     "data": {
      "text/plain": [
       "0.832913518052057"
      ]
     },
     "execution_count": 70,
     "metadata": {},
     "output_type": "execute_result"
    }
   ],
   "source": [
    "#Accuracy\n",
    "avgCantPartes_ac"
   ]
  },
  {
   "cell_type": "markdown",
   "metadata": {},
   "source": [
    "### Random Forest"
   ]
  },
  {
   "cell_type": "code",
   "execution_count": 71,
   "metadata": {},
   "outputs": [],
   "source": [
    "from sklearn.ensemble import RandomForestClassifier\n",
    "import sklearn.metrics as metrics"
   ]
  },
  {
   "cell_type": "code",
   "execution_count": 72,
   "metadata": {},
   "outputs": [
    {
     "data": {
      "text/plain": [
       "RandomForestClassifier(criterion='entropy', random_state=42)"
      ]
     },
     "execution_count": 72,
     "metadata": {},
     "output_type": "execute_result"
    }
   ],
   "source": [
    "#Create random forest\n",
    "RF_avgCantPartes_classifier = RandomForestClassifier(criterion = 'entropy', random_state = 42)\n",
    "RF_avgCantPartes_classifier.fit(x_avgCantPartes_train, y_avgCantPartes_train)"
   ]
  },
  {
   "cell_type": "code",
   "execution_count": 73,
   "metadata": {},
   "outputs": [],
   "source": [
    "#Predict\n",
    "RF_avgCantPartes_pred = RF_avgCantPartes_classifier.predict(x_avgCantPartes_test)"
   ]
  },
  {
   "cell_type": "code",
   "execution_count": 74,
   "metadata": {},
   "outputs": [
    {
     "name": "stdout",
     "output_type": "stream",
     "text": [
      "Testing Set Evaluation F1-Score=> 0.9139378673383711\n"
     ]
    }
   ],
   "source": [
    "#Accuracy\n",
    "print('Testing Set Evaluation F1-Score=>',metrics.accuracy_score(y_avgCantPartes_test,RF_avgCantPartes_pred))"
   ]
  },
  {
   "cell_type": "markdown",
   "metadata": {},
   "source": [
    "## PorcentajeDescuentoEncimaPromedio"
   ]
  },
  {
   "cell_type": "markdown",
   "metadata": {},
   "source": [
    "### Data preparation"
   ]
  },
  {
   "cell_type": "code",
   "execution_count": null,
   "metadata": {},
   "outputs": [
    {
     "data": {
      "text/html": [
       "<div>\n",
       "<style scoped>\n",
       "    .dataframe tbody tr th:only-of-type {\n",
       "        vertical-align: middle;\n",
       "    }\n",
       "\n",
       "    .dataframe tbody tr th {\n",
       "        vertical-align: top;\n",
       "    }\n",
       "\n",
       "    .dataframe thead th {\n",
       "        text-align: right;\n",
       "    }\n",
       "</style>\n",
       "<table border=\"1\" class=\"dataframe\">\n",
       "  <thead>\n",
       "    <tr style=\"text-align: right;\">\n",
       "      <th></th>\n",
       "      <th>ID_Parte</th>\n",
       "      <th>ID_Categoria</th>\n",
       "      <th>Nombre</th>\n",
       "      <th>TotalEncimaPromedio</th>\n",
       "    </tr>\n",
       "  </thead>\n",
       "  <tbody>\n",
       "    <tr>\n",
       "      <th>0</th>\n",
       "      <td>AC1183100</td>\n",
       "      <td>1511</td>\n",
       "      <td>Spokane</td>\n",
       "      <td>1</td>\n",
       "    </tr>\n",
       "    <tr>\n",
       "      <th>1</th>\n",
       "      <td>AC2502112N</td>\n",
       "      <td>1831</td>\n",
       "      <td>Colorado</td>\n",
       "      <td>1</td>\n",
       "    </tr>\n",
       "    <tr>\n",
       "      <th>2</th>\n",
       "      <td>AC1200121</td>\n",
       "      <td>2080</td>\n",
       "      <td>Tulsa</td>\n",
       "      <td>1</td>\n",
       "    </tr>\n",
       "    <tr>\n",
       "      <th>3</th>\n",
       "      <td>222ADJUST</td>\n",
       "      <td>6</td>\n",
       "      <td>Memphis</td>\n",
       "      <td>0</td>\n",
       "    </tr>\n",
       "    <tr>\n",
       "      <th>4</th>\n",
       "      <td>AC1000148U-ORIG.REC</td>\n",
       "      <td>1235</td>\n",
       "      <td>Milwaukee</td>\n",
       "      <td>1</td>\n",
       "    </tr>\n",
       "  </tbody>\n",
       "</table>\n",
       "</div>"
      ],
      "text/plain": [
       "              ID_Parte  ID_Categoria     Nombre  TotalEncimaPromedio\n",
       "0            AC1183100          1511    Spokane                    1\n",
       "1           AC2502112N          1831   Colorado                    1\n",
       "2            AC1200121          2080      Tulsa                    1\n",
       "3            222ADJUST             6    Memphis                    0\n",
       "4  AC1000148U-ORIG.REC          1235  Milwaukee                    1"
      ]
     },
     "execution_count": 10,
     "metadata": {},
     "output_type": "execute_result"
    }
   ],
   "source": [
    "#create dataframe\n",
    "df_avgPorcentajeDescuento = pd.read_sql('select * from VW_PorcentajeDescuentoEncimaPromedio', connection)\n",
    "df_avgPorcentajeDescuento.head(5)"
   ]
  },
  {
   "cell_type": "code",
   "execution_count": null,
   "metadata": {},
   "outputs": [],
   "source": [
    "#variables\n",
    "x_avgPorcentajeDescuento = df_avgPorcentajeDescuento.iloc[:, 0:3].values\n",
    "y_avgPorcentajeDescuento = df_avgPorcentajeDescuento.iloc[:, -1].values"
   ]
  },
  {
   "cell_type": "code",
   "execution_count": null,
   "metadata": {},
   "outputs": [],
   "source": [
    "#Ecoding\n",
    "le = LabelEncoder()\n",
    "x_avgPorcentajeDescuento[:,0] = le.fit_transform(x_avgPorcentajeDescuento[:,0])\n",
    "x_avgPorcentajeDescuento[:,1] = le.fit_transform(x_avgPorcentajeDescuento[:,1])\n",
    "x_avgPorcentajeDescuento[:,2] = le.fit_transform(x_avgPorcentajeDescuento[:,2])"
   ]
  },
  {
   "cell_type": "code",
   "execution_count": null,
   "metadata": {},
   "outputs": [],
   "source": [
    "#Data splitting\n",
    "from sklearn.model_selection import train_test_split\n",
    "(x_avgPorcentajeDescuento_train,\n",
    "x_avgPorcentajeDescuento_test,\n",
    "y_avgPorcentajeDescuento_train,\n",
    "y_avgPorcentajeDescuento_test) = train_test_split(x_avgPorcentajeDescuento, y_avgPorcentajeDescuento, test_size=0.20, random_state=0)"
   ]
  },
  {
   "cell_type": "markdown",
   "metadata": {},
   "source": [
    "### Decision Tree"
   ]
  },
  {
   "cell_type": "code",
   "execution_count": 75,
   "metadata": {},
   "outputs": [
    {
     "data": {
      "text/plain": [
       "array([1, 0, 0, ..., 0, 1, 1], dtype=int64)"
      ]
     },
     "execution_count": 75,
     "metadata": {},
     "output_type": "execute_result"
    }
   ],
   "source": [
    "#Create decision tree\n",
    "from sklearn.tree import DecisionTreeClassifier\n",
    "DT_avgPorcentajeDescuento_classifier = DecisionTreeClassifier()\n",
    "DT_avgPorcentajeDescuento_classifier.fit(x_avgPorcentajeDescuento_train, y_avgPorcentajeDescuento_train)\n",
    "\n",
    "#Predict\n",
    "DT_avgPorcentajeDescuento_pred = DT_avgPorcentajeDescuento_classifier.predict(x_avgPorcentajeDescuento_test)\n",
    "DT_avgPorcentajeDescuento_pred"
   ]
  },
  {
   "cell_type": "code",
   "execution_count": 76,
   "metadata": {},
   "outputs": [],
   "source": [
    "#Create confusion and precision matrix\n",
    "from sklearn.metrics import confusion_matrix, accuracy_score\n",
    "avgPorcentajeDescuento_cm = confusion_matrix(y_avgPorcentajeDescuento_test, DT_avgPorcentajeDescuento_pred)\n",
    "avgPorcentajeDescuento_ac = accuracy_score(y_avgPorcentajeDescuento_test, DT_avgPorcentajeDescuento_pred)"
   ]
  },
  {
   "cell_type": "code",
   "execution_count": 77,
   "metadata": {},
   "outputs": [
    {
     "data": {
      "text/plain": [
       "array([[403, 618],\n",
       "       [607, 857]], dtype=int64)"
      ]
     },
     "execution_count": 77,
     "metadata": {},
     "output_type": "execute_result"
    }
   ],
   "source": [
    "#Confusion matrix\n",
    "avgPorcentajeDescuento_cm"
   ]
  },
  {
   "cell_type": "code",
   "execution_count": 78,
   "metadata": {},
   "outputs": [
    {
     "data": {
      "text/plain": [
       "0.5070422535211268"
      ]
     },
     "execution_count": 78,
     "metadata": {},
     "output_type": "execute_result"
    }
   ],
   "source": [
    "#Accuracy\n",
    "avgPorcentajeDescuento_ac"
   ]
  },
  {
   "cell_type": "markdown",
   "metadata": {},
   "source": [
    "### Random Forest"
   ]
  },
  {
   "cell_type": "code",
   "execution_count": 79,
   "metadata": {},
   "outputs": [],
   "source": [
    "from sklearn.ensemble import RandomForestClassifier\n",
    "import sklearn.metrics as metrics"
   ]
  },
  {
   "cell_type": "code",
   "execution_count": 80,
   "metadata": {},
   "outputs": [
    {
     "data": {
      "text/plain": [
       "RandomForestClassifier(criterion='entropy', random_state=42)"
      ]
     },
     "execution_count": 80,
     "metadata": {},
     "output_type": "execute_result"
    }
   ],
   "source": [
    "#Create random forest\n",
    "RF_avgPorcentajeDescuento_classifier = RandomForestClassifier(criterion = 'entropy', random_state = 42)\n",
    "RF_avgPorcentajeDescuento_classifier.fit(x_avgPorcentajeDescuento_train, y_avgPorcentajeDescuento_train)"
   ]
  },
  {
   "cell_type": "code",
   "execution_count": 81,
   "metadata": {},
   "outputs": [],
   "source": [
    "#Predict\n",
    "RF_avgPorcentajeDescuento_pred = RF_avgPorcentajeDescuento_classifier.predict(x_avgPorcentajeDescuento_test)"
   ]
  },
  {
   "cell_type": "code",
   "execution_count": 82,
   "metadata": {},
   "outputs": [
    {
     "name": "stdout",
     "output_type": "stream",
     "text": [
      "Testing Set Evaluation F1-Score=> 0.5142857142857142\n"
     ]
    }
   ],
   "source": [
    "#Accuracy\n",
    "print('Testing Set Evaluation F1-Score=>',metrics.accuracy_score(y_avgPorcentajeDescuento_test,RF_avgPorcentajeDescuento_pred))"
   ]
  },
  {
   "cell_type": "markdown",
   "metadata": {},
   "source": [
    "## TotalOrdenesEncimaPromedio"
   ]
  },
  {
   "cell_type": "markdown",
   "metadata": {},
   "source": [
    "### Data preparation"
   ]
  },
  {
   "cell_type": "code",
   "execution_count": null,
   "metadata": {},
   "outputs": [
    {
     "data": {
      "text/html": [
       "<div>\n",
       "<style scoped>\n",
       "    .dataframe tbody tr th:only-of-type {\n",
       "        vertical-align: middle;\n",
       "    }\n",
       "\n",
       "    .dataframe tbody tr th {\n",
       "        vertical-align: top;\n",
       "    }\n",
       "\n",
       "    .dataframe thead th {\n",
       "        text-align: right;\n",
       "    }\n",
       "</style>\n",
       "<table border=\"1\" class=\"dataframe\">\n",
       "  <thead>\n",
       "    <tr style=\"text-align: right;\">\n",
       "      <th></th>\n",
       "      <th>NombreCiudad</th>\n",
       "      <th>Genero</th>\n",
       "      <th>ID_Parte</th>\n",
       "      <th>ID_Categoria</th>\n",
       "      <th>TotalEncimaPromedio</th>\n",
       "    </tr>\n",
       "  </thead>\n",
       "  <tbody>\n",
       "    <tr>\n",
       "      <th>0</th>\n",
       "      <td>San Diego</td>\n",
       "      <td>M</td>\n",
       "      <td>AC1100173CORE-ORIG.REC</td>\n",
       "      <td>1612</td>\n",
       "      <td>1</td>\n",
       "    </tr>\n",
       "    <tr>\n",
       "      <th>1</th>\n",
       "      <td>Tacoma</td>\n",
       "      <td>F</td>\n",
       "      <td>AC1320108-ORIG.REC</td>\n",
       "      <td>2827</td>\n",
       "      <td>0</td>\n",
       "    </tr>\n",
       "    <tr>\n",
       "      <th>2</th>\n",
       "      <td>Akron</td>\n",
       "      <td>M</td>\n",
       "      <td>AC1228119-ORIG.REC</td>\n",
       "      <td>3154</td>\n",
       "      <td>0</td>\n",
       "    </tr>\n",
       "    <tr>\n",
       "      <th>3</th>\n",
       "      <td>Richmond</td>\n",
       "      <td>M</td>\n",
       "      <td>AC1217107</td>\n",
       "      <td>3225</td>\n",
       "      <td>1</td>\n",
       "    </tr>\n",
       "    <tr>\n",
       "      <th>4</th>\n",
       "      <td>Dallas</td>\n",
       "      <td>F</td>\n",
       "      <td>AC2519105-ORIG.REC</td>\n",
       "      <td>4241</td>\n",
       "      <td>0</td>\n",
       "    </tr>\n",
       "  </tbody>\n",
       "</table>\n",
       "</div>"
      ],
      "text/plain": [
       "  NombreCiudad Genero                ID_Parte  ID_Categoria  \\\n",
       "0    San Diego      M  AC1100173CORE-ORIG.REC          1612   \n",
       "1       Tacoma      F      AC1320108-ORIG.REC          2827   \n",
       "2        Akron      M      AC1228119-ORIG.REC          3154   \n",
       "3     Richmond      M               AC1217107          3225   \n",
       "4       Dallas      F      AC2519105-ORIG.REC          4241   \n",
       "\n",
       "   TotalEncimaPromedio  \n",
       "0                    1  \n",
       "1                    0  \n",
       "2                    0  \n",
       "3                    1  \n",
       "4                    0  "
      ]
     },
     "execution_count": 13,
     "metadata": {},
     "output_type": "execute_result"
    }
   ],
   "source": [
    "#create dataframe\n",
    "df_avgOrdenes = pd.read_sql('select * from VW_TotalOrdenesEncimaPromedio', connection)\n",
    "df_avgOrdenes.head(5)"
   ]
  },
  {
   "cell_type": "code",
   "execution_count": null,
   "metadata": {},
   "outputs": [],
   "source": [
    "#variables\n",
    "x_avgOrdenes = df_avgOrdenes.iloc[:, 0:4].values\n",
    "y_avgOrdenes = df_avgOrdenes.iloc[:, -1].values"
   ]
  },
  {
   "cell_type": "code",
   "execution_count": null,
   "metadata": {},
   "outputs": [],
   "source": [
    "#Ecoding\n",
    "le = LabelEncoder()\n",
    "x_avgOrdenes[:,0] = le.fit_transform(x_avgOrdenes[:,0])\n",
    "x_avgOrdenes[:,1] = le.fit_transform(x_avgOrdenes[:,1])\n",
    "x_avgOrdenes[:,2] = le.fit_transform(x_avgOrdenes[:,2])\n",
    "x_avgOrdenes[:,3] = le.fit_transform(x_avgOrdenes[:,3])"
   ]
  },
  {
   "cell_type": "code",
   "execution_count": null,
   "metadata": {},
   "outputs": [],
   "source": [
    "#Data splitting\n",
    "from sklearn.model_selection import train_test_split\n",
    "(x_avgOrdenes_train,\n",
    "x_avgOrdenes_test,\n",
    "y_avgOrdenes_train,\n",
    "y_avgOrdenes_test) = train_test_split(x_avgOrdenes, y_avgOrdenes, test_size=0.20, random_state=0)"
   ]
  },
  {
   "cell_type": "markdown",
   "metadata": {},
   "source": [
    "### Decision Tree"
   ]
  },
  {
   "cell_type": "code",
   "execution_count": 83,
   "metadata": {},
   "outputs": [
    {
     "data": {
      "text/plain": [
       "array([1, 1, 1, ..., 1, 0, 1], dtype=int64)"
      ]
     },
     "execution_count": 83,
     "metadata": {},
     "output_type": "execute_result"
    }
   ],
   "source": [
    "#Create decision tree\n",
    "from sklearn.tree import DecisionTreeClassifier\n",
    "DT_avgOrdenes_classifier = DecisionTreeClassifier()\n",
    "DT_avgOrdenes_classifier.fit(x_avgOrdenes_train, y_avgOrdenes_train)\n",
    "\n",
    "#Predict\n",
    "DT_avgOrdenes_pred = DT_avgOrdenes_classifier.predict(x_avgOrdenes_test)\n",
    "DT_avgOrdenes_pred"
   ]
  },
  {
   "cell_type": "code",
   "execution_count": 84,
   "metadata": {},
   "outputs": [],
   "source": [
    "#Create confusion and precision matrix\n",
    "from sklearn.metrics import confusion_matrix, accuracy_score\n",
    "avgOrdenes_cm = confusion_matrix(y_avgOrdenes_test, DT_avgOrdenes_pred)\n",
    "avgOrdenes_ac = accuracy_score(y_avgOrdenes_test, DT_avgOrdenes_pred)"
   ]
  },
  {
   "cell_type": "code",
   "execution_count": 85,
   "metadata": {},
   "outputs": [
    {
     "data": {
      "text/plain": [
       "array([[606, 595],\n",
       "       [590, 591]], dtype=int64)"
      ]
     },
     "execution_count": 85,
     "metadata": {},
     "output_type": "execute_result"
    }
   ],
   "source": [
    "#Confusion matrix\n",
    "avgOrdenes_cm"
   ]
  },
  {
   "cell_type": "code",
   "execution_count": 86,
   "metadata": {},
   "outputs": [
    {
     "data": {
      "text/plain": [
       "0.5025188916876574"
      ]
     },
     "execution_count": 86,
     "metadata": {},
     "output_type": "execute_result"
    }
   ],
   "source": [
    "#Accuracy\n",
    "avgOrdenes_ac"
   ]
  },
  {
   "cell_type": "markdown",
   "metadata": {},
   "source": [
    "### Random Forest"
   ]
  },
  {
   "cell_type": "code",
   "execution_count": 87,
   "metadata": {},
   "outputs": [],
   "source": [
    "from sklearn.ensemble import RandomForestClassifier\n",
    "import sklearn.metrics as metrics"
   ]
  },
  {
   "cell_type": "code",
   "execution_count": 88,
   "metadata": {},
   "outputs": [
    {
     "data": {
      "text/plain": [
       "RandomForestClassifier(criterion='entropy', random_state=42)"
      ]
     },
     "execution_count": 88,
     "metadata": {},
     "output_type": "execute_result"
    }
   ],
   "source": [
    "#Create random forest\n",
    "RF_avgOrdenes_classifier = RandomForestClassifier(criterion = 'entropy', random_state = 42)\n",
    "RF_avgOrdenes_classifier.fit(x_avgOrdenes_train, y_avgOrdenes_train)"
   ]
  },
  {
   "cell_type": "code",
   "execution_count": 89,
   "metadata": {},
   "outputs": [],
   "source": [
    "#Predict\n",
    "RF_avgOrdenes_pred = RF_avgOrdenes_classifier.predict(x_avgOrdenes_test)"
   ]
  },
  {
   "cell_type": "code",
   "execution_count": 90,
   "metadata": {},
   "outputs": [
    {
     "name": "stdout",
     "output_type": "stream",
     "text": [
      "Testing Set Evaluation F1-Score=> 0.5020990764063812\n"
     ]
    }
   ],
   "source": [
    "#Accuracy\n",
    "print('Testing Set Evaluation F1-Score=>',metrics.accuracy_score(y_avgOrdenes_test,RF_avgOrdenes_pred))"
   ]
  },
  {
   "cell_type": "markdown",
   "metadata": {},
   "source": [
    "## OrdenRealizadaCotizacion"
   ]
  },
  {
   "cell_type": "markdown",
   "metadata": {},
   "source": [
    "### Data preparation"
   ]
  },
  {
   "cell_type": "code",
   "execution_count": null,
   "metadata": {},
   "outputs": [
    {
     "data": {
      "text/html": [
       "<div>\n",
       "<style scoped>\n",
       "    .dataframe tbody tr th:only-of-type {\n",
       "        vertical-align: middle;\n",
       "    }\n",
       "\n",
       "    .dataframe tbody tr th {\n",
       "        vertical-align: top;\n",
       "    }\n",
       "\n",
       "    .dataframe thead th {\n",
       "        text-align: right;\n",
       "    }\n",
       "</style>\n",
       "<table border=\"1\" class=\"dataframe\">\n",
       "  <thead>\n",
       "    <tr style=\"text-align: right;\">\n",
       "      <th></th>\n",
       "      <th>ID_Categoria</th>\n",
       "      <th>ID_Parte</th>\n",
       "      <th>ProcesadoPor</th>\n",
       "      <th>IDAseguradora</th>\n",
       "      <th>OrdenRealizada</th>\n",
       "    </tr>\n",
       "  </thead>\n",
       "  <tbody>\n",
       "    <tr>\n",
       "      <th>0</th>\n",
       "      <td>727</td>\n",
       "      <td>*220MISC</td>\n",
       "      <td>Aseguradora</td>\n",
       "      <td>438</td>\n",
       "      <td>False</td>\n",
       "    </tr>\n",
       "    <tr>\n",
       "      <th>1</th>\n",
       "      <td>769</td>\n",
       "      <td>*222MISC</td>\n",
       "      <td>Aseguradora</td>\n",
       "      <td>438</td>\n",
       "      <td>False</td>\n",
       "    </tr>\n",
       "    <tr>\n",
       "      <th>2</th>\n",
       "      <td>559</td>\n",
       "      <td>*223MISC</td>\n",
       "      <td>Aseguradora</td>\n",
       "      <td>880</td>\n",
       "      <td>False</td>\n",
       "    </tr>\n",
       "    <tr>\n",
       "      <th>3</th>\n",
       "      <td>207</td>\n",
       "      <td>*224MISC</td>\n",
       "      <td>Call center</td>\n",
       "      <td>880</td>\n",
       "      <td>False</td>\n",
       "    </tr>\n",
       "    <tr>\n",
       "      <th>4</th>\n",
       "      <td>1004</td>\n",
       "      <td>*225MISC</td>\n",
       "      <td>Aseguradora</td>\n",
       "      <td>1278</td>\n",
       "      <td>False</td>\n",
       "    </tr>\n",
       "  </tbody>\n",
       "</table>\n",
       "</div>"
      ],
      "text/plain": [
       "   ID_Categoria  ID_Parte ProcesadoPor  IDAseguradora  OrdenRealizada\n",
       "0           727  *220MISC  Aseguradora            438           False\n",
       "1           769  *222MISC  Aseguradora            438           False\n",
       "2           559  *223MISC  Aseguradora            880           False\n",
       "3           207  *224MISC  Call center            880           False\n",
       "4          1004  *225MISC  Aseguradora           1278           False"
      ]
     },
     "execution_count": 16,
     "metadata": {},
     "output_type": "execute_result"
    }
   ],
   "source": [
    "#create dataframe\n",
    "df_ordenRealizadaCotizacion = pd.read_sql('select * from VW_OrdenRealizadaCotizacion', connection)\n",
    "df_ordenRealizadaCotizacion.head(5)"
   ]
  },
  {
   "cell_type": "code",
   "execution_count": null,
   "metadata": {},
   "outputs": [],
   "source": [
    "#variables\n",
    "x_ordenRealizadaCotizacion = df_ordenRealizadaCotizacion.iloc[:, 0:4].values\n",
    "y_ordenRealizadaCotizacion = df_ordenRealizadaCotizacion.iloc[:, -1].values"
   ]
  },
  {
   "cell_type": "code",
   "execution_count": null,
   "metadata": {},
   "outputs": [],
   "source": [
    "#Ecoding\n",
    "le = LabelEncoder()\n",
    "x_ordenRealizadaCotizacion[:,0] = le.fit_transform(x_ordenRealizadaCotizacion[:,0])\n",
    "x_ordenRealizadaCotizacion[:,1] = le.fit_transform(x_ordenRealizadaCotizacion[:,1])\n",
    "x_ordenRealizadaCotizacion[:,2] = le.fit_transform(x_ordenRealizadaCotizacion[:,2])\n",
    "x_ordenRealizadaCotizacion[:,3] = le.fit_transform(x_ordenRealizadaCotizacion[:,3])"
   ]
  },
  {
   "cell_type": "code",
   "execution_count": null,
   "metadata": {},
   "outputs": [],
   "source": [
    "#Data splitting\n",
    "from sklearn.model_selection import train_test_split\n",
    "(x_ordenRealizadaCotizacion_train,\n",
    "x_ordenRealizadaCotizacion_test,\n",
    "y_ordenRealizadaCotizacion_train,\n",
    "y_ordenRealizadaCotizacion_test) = train_test_split(x_ordenRealizadaCotizacion, y_ordenRealizadaCotizacion, test_size=0.20, random_state=0)"
   ]
  },
  {
   "cell_type": "markdown",
   "metadata": {},
   "source": [
    "### Decision Tree"
   ]
  },
  {
   "cell_type": "code",
   "execution_count": 91,
   "metadata": {},
   "outputs": [
    {
     "data": {
      "text/plain": [
       "array([False,  True, False, ...,  True,  True, False])"
      ]
     },
     "execution_count": 91,
     "metadata": {},
     "output_type": "execute_result"
    }
   ],
   "source": [
    "#Create decision tree\n",
    "from sklearn.tree import DecisionTreeClassifier\n",
    "DT_ordenRealizadaCotizacion_classifier = DecisionTreeClassifier()\n",
    "DT_ordenRealizadaCotizacion_classifier.fit(x_ordenRealizadaCotizacion_train, y_ordenRealizadaCotizacion_train)\n",
    "\n",
    "#Predict\n",
    "DT_ordenRealizadaCotizacion_pred = DT_ordenRealizadaCotizacion_classifier.predict(x_ordenRealizadaCotizacion_test)\n",
    "DT_ordenRealizadaCotizacion_pred"
   ]
  },
  {
   "cell_type": "code",
   "execution_count": 92,
   "metadata": {},
   "outputs": [],
   "source": [
    "#Create confusion and precision matrix\n",
    "from sklearn.metrics import confusion_matrix, accuracy_score\n",
    "ordenRealizadaCotizacion_cm = confusion_matrix(y_ordenRealizadaCotizacion_test, DT_ordenRealizadaCotizacion_pred)\n",
    "ordenRealizadaCotizacion_ac = accuracy_score(y_ordenRealizadaCotizacion_test, DT_ordenRealizadaCotizacion_pred)"
   ]
  },
  {
   "cell_type": "code",
   "execution_count": 93,
   "metadata": {},
   "outputs": [
    {
     "data": {
      "text/plain": [
       "array([[887, 604],\n",
       "       [612, 380]], dtype=int64)"
      ]
     },
     "execution_count": 93,
     "metadata": {},
     "output_type": "execute_result"
    }
   ],
   "source": [
    "#Confusion matrix\n",
    "ordenRealizadaCotizacion_cm"
   ]
  },
  {
   "cell_type": "code",
   "execution_count": 94,
   "metadata": {},
   "outputs": [
    {
     "data": {
      "text/plain": [
       "0.5102698348771647"
      ]
     },
     "execution_count": 94,
     "metadata": {},
     "output_type": "execute_result"
    }
   ],
   "source": [
    "#Accuracy\n",
    "ordenRealizadaCotizacion_ac"
   ]
  },
  {
   "cell_type": "markdown",
   "metadata": {},
   "source": [
    "### Random Forest"
   ]
  },
  {
   "cell_type": "code",
   "execution_count": 95,
   "metadata": {},
   "outputs": [],
   "source": [
    "from sklearn.ensemble import RandomForestClassifier\n",
    "import sklearn.metrics as metrics"
   ]
  },
  {
   "cell_type": "code",
   "execution_count": 96,
   "metadata": {},
   "outputs": [
    {
     "data": {
      "text/plain": [
       "RandomForestClassifier(criterion='entropy', random_state=42)"
      ]
     },
     "execution_count": 96,
     "metadata": {},
     "output_type": "execute_result"
    }
   ],
   "source": [
    "#Create random forest\n",
    "RF_ordenRealizadaCotizacion_classifier = RandomForestClassifier(criterion = 'entropy', random_state = 42)\n",
    "RF_ordenRealizadaCotizacion_classifier.fit(x_ordenRealizadaCotizacion_train, y_ordenRealizadaCotizacion_train)"
   ]
  },
  {
   "cell_type": "code",
   "execution_count": 100,
   "metadata": {},
   "outputs": [],
   "source": [
    "#Predict\n",
    "RF_ordenRealizadaCotizacion_pred = RF_ordenRealizadaCotizacion_classifier.predict(x_ordenRealizadaCotizacion_test)"
   ]
  },
  {
   "cell_type": "code",
   "execution_count": 102,
   "metadata": {},
   "outputs": [
    {
     "name": "stdout",
     "output_type": "stream",
     "text": [
      "Testing Set Evaluation F1-Score=> 0.5573902537253322\n"
     ]
    }
   ],
   "source": [
    "#Accuracy\n",
    "print('Testing Set Evaluation F1-Score=>',metrics.accuracy_score(y_ordenRealizadaCotizacion_test,RF_ordenRealizadaCotizacion_pred))"
   ]
  },
  {
   "cell_type": "markdown",
   "metadata": {},
   "source": [
    "## PorcentajeBajo"
   ]
  },
  {
   "cell_type": "markdown",
   "metadata": {},
   "source": [
    "### Data preparation"
   ]
  },
  {
   "cell_type": "code",
   "execution_count": null,
   "metadata": {},
   "outputs": [
    {
     "data": {
      "text/html": [
       "<div>\n",
       "<style scoped>\n",
       "    .dataframe tbody tr th:only-of-type {\n",
       "        vertical-align: middle;\n",
       "    }\n",
       "\n",
       "    .dataframe tbody tr th {\n",
       "        vertical-align: top;\n",
       "    }\n",
       "\n",
       "    .dataframe thead th {\n",
       "        text-align: right;\n",
       "    }\n",
       "</style>\n",
       "<table border=\"1\" class=\"dataframe\">\n",
       "  <thead>\n",
       "    <tr style=\"text-align: right;\">\n",
       "      <th></th>\n",
       "      <th>ID_Parte</th>\n",
       "      <th>ID_Categoria</th>\n",
       "      <th>Nombre</th>\n",
       "      <th>PorcentajeBajo</th>\n",
       "    </tr>\n",
       "  </thead>\n",
       "  <tbody>\n",
       "    <tr>\n",
       "      <th>0</th>\n",
       "      <td>AC1183100</td>\n",
       "      <td>1511</td>\n",
       "      <td>Spokane</td>\n",
       "      <td>0</td>\n",
       "    </tr>\n",
       "    <tr>\n",
       "      <th>1</th>\n",
       "      <td>AC2502112N</td>\n",
       "      <td>1831</td>\n",
       "      <td>Colorado</td>\n",
       "      <td>1</td>\n",
       "    </tr>\n",
       "    <tr>\n",
       "      <th>2</th>\n",
       "      <td>AC1200121</td>\n",
       "      <td>2080</td>\n",
       "      <td>Tulsa</td>\n",
       "      <td>1</td>\n",
       "    </tr>\n",
       "    <tr>\n",
       "      <th>3</th>\n",
       "      <td>222ADJUST</td>\n",
       "      <td>6</td>\n",
       "      <td>Memphis</td>\n",
       "      <td>1</td>\n",
       "    </tr>\n",
       "    <tr>\n",
       "      <th>4</th>\n",
       "      <td>AC1000148U-ORIG.REC</td>\n",
       "      <td>1235</td>\n",
       "      <td>Milwaukee</td>\n",
       "      <td>0</td>\n",
       "    </tr>\n",
       "  </tbody>\n",
       "</table>\n",
       "</div>"
      ],
      "text/plain": [
       "              ID_Parte  ID_Categoria     Nombre  PorcentajeBajo\n",
       "0            AC1183100          1511    Spokane               0\n",
       "1           AC2502112N          1831   Colorado               1\n",
       "2            AC1200121          2080      Tulsa               1\n",
       "3            222ADJUST             6    Memphis               1\n",
       "4  AC1000148U-ORIG.REC          1235  Milwaukee               0"
      ]
     },
     "execution_count": 19,
     "metadata": {},
     "output_type": "execute_result"
    }
   ],
   "source": [
    "#create dataframe\n",
    "df_avgPorcentajeDescuentoBajo = pd.read_sql('select * from VW_PorcentajeBajo', connection)\n",
    "df_avgPorcentajeDescuentoBajo.head(5)"
   ]
  },
  {
   "cell_type": "code",
   "execution_count": null,
   "metadata": {},
   "outputs": [],
   "source": [
    "#variables\n",
    "x_avgPorcentajeDescuentoBajo = df_avgPorcentajeDescuentoBajo.iloc[:, 0:3].values\n",
    "y_avgPorcentajeDescuentoBajo = df_avgPorcentajeDescuentoBajo.iloc[:, -1].values"
   ]
  },
  {
   "cell_type": "code",
   "execution_count": null,
   "metadata": {},
   "outputs": [],
   "source": [
    "#Ecoding\n",
    "le = LabelEncoder()\n",
    "x_avgPorcentajeDescuentoBajo[:,0] = le.fit_transform(x_avgPorcentajeDescuentoBajo[:,0])\n",
    "x_avgPorcentajeDescuentoBajo[:,1] = le.fit_transform(x_avgPorcentajeDescuentoBajo[:,1])\n",
    "x_avgPorcentajeDescuentoBajo[:,2] = le.fit_transform(x_avgPorcentajeDescuentoBajo[:,2])"
   ]
  },
  {
   "cell_type": "code",
   "execution_count": null,
   "metadata": {},
   "outputs": [],
   "source": [
    "#Data splitting\n",
    "from sklearn.model_selection import train_test_split\n",
    "(x_avgPorcentajeDescuentoBajo_train,\n",
    "x_avgPorcentajeDescuentoBajo_test,\n",
    "y_avgPorcentajeDescuentoBajo_train,\n",
    "y_avgPorcentajeDescuentoBajo_test) = train_test_split(x_avgPorcentajeDescuentoBajo, y_avgPorcentajeDescuentoBajo, test_size=0.20, random_state=0)"
   ]
  },
  {
   "cell_type": "markdown",
   "metadata": {},
   "source": [
    "### Decision Tree"
   ]
  },
  {
   "cell_type": "code",
   "execution_count": 103,
   "metadata": {},
   "outputs": [
    {
     "data": {
      "text/plain": [
       "array([1, 0, 0, ..., 1, 1, 1], dtype=int64)"
      ]
     },
     "execution_count": 103,
     "metadata": {},
     "output_type": "execute_result"
    }
   ],
   "source": [
    "#Create decision tree\n",
    "from sklearn.tree import DecisionTreeClassifier\n",
    "DT_avgPorcentajeDescuentoBajo_classifier = DecisionTreeClassifier()\n",
    "DT_avgPorcentajeDescuentoBajo_classifier.fit(x_avgPorcentajeDescuentoBajo_train, y_avgPorcentajeDescuentoBajo_train)\n",
    "\n",
    "#Predict\n",
    "DT_avgPorcentajeDescuentoBajo_pred = DT_avgPorcentajeDescuentoBajo_classifier.predict(x_avgPorcentajeDescuentoBajo_test)\n",
    "DT_avgPorcentajeDescuentoBajo_pred"
   ]
  },
  {
   "cell_type": "code",
   "execution_count": 104,
   "metadata": {},
   "outputs": [],
   "source": [
    "#Create confusion and precision matrix\n",
    "from sklearn.metrics import confusion_matrix, accuracy_score\n",
    "avgPorcentajeDescuentoBajo_cm = confusion_matrix(y_avgPorcentajeDescuentoBajo_test, DT_avgPorcentajeDescuentoBajo_pred)\n",
    "avgPorcentajeDescuentoBajo_ac = accuracy_score(y_avgPorcentajeDescuentoBajo_test, DT_avgPorcentajeDescuentoBajo_pred)"
   ]
  },
  {
   "cell_type": "code",
   "execution_count": 105,
   "metadata": {},
   "outputs": [
    {
     "data": {
      "text/plain": [
       "array([[380, 622],\n",
       "       [563, 920]], dtype=int64)"
      ]
     },
     "execution_count": 105,
     "metadata": {},
     "output_type": "execute_result"
    }
   ],
   "source": [
    "#Confusion matrix\n",
    "avgPorcentajeDescuentoBajo_cm"
   ]
  },
  {
   "cell_type": "code",
   "execution_count": 106,
   "metadata": {},
   "outputs": [
    {
     "data": {
      "text/plain": [
       "0.5231388329979879"
      ]
     },
     "execution_count": 106,
     "metadata": {},
     "output_type": "execute_result"
    }
   ],
   "source": [
    "#Accuracy\n",
    "avgPorcentajeDescuentoBajo_ac"
   ]
  },
  {
   "cell_type": "markdown",
   "metadata": {},
   "source": [
    "### Random Forest"
   ]
  },
  {
   "cell_type": "code",
   "execution_count": 107,
   "metadata": {},
   "outputs": [],
   "source": [
    "from sklearn.ensemble import RandomForestClassifier\n",
    "import sklearn.metrics as metrics"
   ]
  },
  {
   "cell_type": "code",
   "execution_count": 108,
   "metadata": {},
   "outputs": [
    {
     "data": {
      "text/plain": [
       "RandomForestClassifier(criterion='entropy', random_state=42)"
      ]
     },
     "execution_count": 108,
     "metadata": {},
     "output_type": "execute_result"
    }
   ],
   "source": [
    "#Create random forest\n",
    "RF_avgPorcentajeDescuentoBajo_classifier = RandomForestClassifier(criterion = 'entropy', random_state = 42)\n",
    "RF_avgPorcentajeDescuentoBajo_classifier.fit(x_avgPorcentajeDescuentoBajo_train, y_avgPorcentajeDescuentoBajo_train)"
   ]
  },
  {
   "cell_type": "code",
   "execution_count": 109,
   "metadata": {},
   "outputs": [],
   "source": [
    "#Predict\n",
    "RF_avgPorcentajeDescuentoBajo_pred = RF_avgPorcentajeDescuentoBajo_classifier.predict(x_avgPorcentajeDescuentoBajo_test)"
   ]
  },
  {
   "cell_type": "code",
   "execution_count": 110,
   "metadata": {},
   "outputs": [
    {
     "name": "stdout",
     "output_type": "stream",
     "text": [
      "Testing Set Evaluation F1-Score=> 0.5203219315895372\n"
     ]
    }
   ],
   "source": [
    "#Accuracy\n",
    "print('Testing Set Evaluation F1-Score=>',metrics.accuracy_score(y_avgPorcentajeDescuentoBajo_test,RF_avgPorcentajeDescuentoBajo_pred))"
   ]
  },
  {
   "cell_type": "markdown",
   "metadata": {},
   "source": [
    "## VehiculoModerno"
   ]
  },
  {
   "cell_type": "markdown",
   "metadata": {},
   "source": [
    "### Data preparation"
   ]
  },
  {
   "cell_type": "code",
   "execution_count": 112,
   "metadata": {},
   "outputs": [
    {
     "data": {
      "text/html": [
       "<div>\n",
       "<style scoped>\n",
       "    .dataframe tbody tr th:only-of-type {\n",
       "        vertical-align: middle;\n",
       "    }\n",
       "\n",
       "    .dataframe tbody tr th {\n",
       "        vertical-align: top;\n",
       "    }\n",
       "\n",
       "    .dataframe thead th {\n",
       "        text-align: right;\n",
       "    }\n",
       "</style>\n",
       "<table border=\"1\" class=\"dataframe\">\n",
       "  <thead>\n",
       "    <tr style=\"text-align: right;\">\n",
       "      <th></th>\n",
       "      <th>ID_Parte</th>\n",
       "      <th>ID_Categoria</th>\n",
       "      <th>Marca</th>\n",
       "      <th>VehiculoModerno</th>\n",
       "    </tr>\n",
       "  </thead>\n",
       "  <tbody>\n",
       "    <tr>\n",
       "      <th>0</th>\n",
       "      <td>ALT13735R</td>\n",
       "      <td>5106</td>\n",
       "      <td>GMC</td>\n",
       "      <td>0</td>\n",
       "    </tr>\n",
       "    <tr>\n",
       "      <th>1</th>\n",
       "      <td>ACK011820R</td>\n",
       "      <td>6788</td>\n",
       "      <td>Chevrolet</td>\n",
       "      <td>1</td>\n",
       "    </tr>\n",
       "    <tr>\n",
       "      <th>2</th>\n",
       "      <td>ACK011121</td>\n",
       "      <td>7172</td>\n",
       "      <td>Lexus</td>\n",
       "      <td>1</td>\n",
       "    </tr>\n",
       "    <tr>\n",
       "      <th>3</th>\n",
       "      <td>ACK013043</td>\n",
       "      <td>9004</td>\n",
       "      <td>Toyota</td>\n",
       "      <td>1</td>\n",
       "    </tr>\n",
       "    <tr>\n",
       "      <th>4</th>\n",
       "      <td>ACK012339</td>\n",
       "      <td>7330</td>\n",
       "      <td>Mazda</td>\n",
       "      <td>1</td>\n",
       "    </tr>\n",
       "  </tbody>\n",
       "</table>\n",
       "</div>"
      ],
      "text/plain": [
       "     ID_Parte  ID_Categoria      Marca  VehiculoModerno\n",
       "0   ALT13735R          5106        GMC                0\n",
       "1  ACK011820R          6788  Chevrolet                1\n",
       "2   ACK011121          7172      Lexus                1\n",
       "3   ACK013043          9004     Toyota                1\n",
       "4   ACK012339          7330      Mazda                1"
      ]
     },
     "execution_count": 112,
     "metadata": {},
     "output_type": "execute_result"
    }
   ],
   "source": [
    "#create dataframe\n",
    "df_vehiculoModerno = pd.read_sql('select * from VW_VehiculoModerno', connection)\n",
    "df_vehiculoModerno.head(5)"
   ]
  },
  {
   "cell_type": "code",
   "execution_count": 113,
   "metadata": {},
   "outputs": [],
   "source": [
    "#variables\n",
    "x_vehiculoModerno = df_vehiculoModerno.iloc[:, 0:3].values\n",
    "y_vehiculoModerno = df_vehiculoModerno.iloc[:, -1].values"
   ]
  },
  {
   "cell_type": "code",
   "execution_count": 114,
   "metadata": {},
   "outputs": [],
   "source": [
    "#Ecoding\n",
    "le = LabelEncoder()\n",
    "x_vehiculoModerno[:,0] = le.fit_transform(x_vehiculoModerno[:,0])\n",
    "x_vehiculoModerno[:,1] = le.fit_transform(x_vehiculoModerno[:,1])\n",
    "x_vehiculoModerno[:,2] = le.fit_transform(x_vehiculoModerno[:,2])"
   ]
  },
  {
   "cell_type": "code",
   "execution_count": 115,
   "metadata": {},
   "outputs": [],
   "source": [
    "#Data splitting\n",
    "from sklearn.model_selection import train_test_split\n",
    "(x_vehiculoModerno_train,\n",
    "x_vehiculoModerno_test,\n",
    "y_vehiculoModerno_train,\n",
    "y_vehiculoModerno_test) = train_test_split(x_vehiculoModerno, y_vehiculoModerno, test_size=0.20, random_state=0)"
   ]
  },
  {
   "cell_type": "markdown",
   "metadata": {},
   "source": [
    "### Decision Tree"
   ]
  },
  {
   "cell_type": "code",
   "execution_count": 116,
   "metadata": {},
   "outputs": [
    {
     "data": {
      "text/plain": [
       "array([0, 1, 1, ..., 1, 0, 1], dtype=int64)"
      ]
     },
     "execution_count": 116,
     "metadata": {},
     "output_type": "execute_result"
    }
   ],
   "source": [
    "#Create decision tree\n",
    "from sklearn.tree import DecisionTreeClassifier\n",
    "DT_vehiculoModerno_classifier = DecisionTreeClassifier()\n",
    "DT_vehiculoModerno_classifier.fit(x_vehiculoModerno_train, y_vehiculoModerno_train)\n",
    "\n",
    "#Predict\n",
    "DT_vehiculoModerno_pred = DT_vehiculoModerno_classifier.predict(x_vehiculoModerno_test)\n",
    "DT_vehiculoModerno_pred"
   ]
  },
  {
   "cell_type": "code",
   "execution_count": 117,
   "metadata": {},
   "outputs": [],
   "source": [
    "#Create confusion and precision matrix\n",
    "from sklearn.metrics import confusion_matrix, accuracy_score\n",
    "vehiculoModerno_cm = confusion_matrix(y_vehiculoModerno_test, DT_vehiculoModerno_pred)\n",
    "vehiculoModerno_ac = accuracy_score(y_vehiculoModerno_test, DT_vehiculoModerno_pred)"
   ]
  },
  {
   "cell_type": "code",
   "execution_count": 118,
   "metadata": {},
   "outputs": [
    {
     "data": {
      "text/plain": [
       "array([[ 431,  476],\n",
       "       [ 511, 1107]], dtype=int64)"
      ]
     },
     "execution_count": 118,
     "metadata": {},
     "output_type": "execute_result"
    }
   ],
   "source": [
    "#Confusion matrix\n",
    "vehiculoModerno_cm"
   ]
  },
  {
   "cell_type": "code",
   "execution_count": 119,
   "metadata": {},
   "outputs": [
    {
     "data": {
      "text/plain": [
       "0.6091089108910891"
      ]
     },
     "execution_count": 119,
     "metadata": {},
     "output_type": "execute_result"
    }
   ],
   "source": [
    "#Accuracy\n",
    "vehiculoModerno_ac"
   ]
  },
  {
   "cell_type": "markdown",
   "metadata": {},
   "source": [
    "### Random Forest"
   ]
  },
  {
   "cell_type": "code",
   "execution_count": 120,
   "metadata": {},
   "outputs": [],
   "source": [
    "from sklearn.ensemble import RandomForestClassifier\n",
    "import sklearn.metrics as metrics"
   ]
  },
  {
   "cell_type": "code",
   "execution_count": 121,
   "metadata": {},
   "outputs": [
    {
     "data": {
      "text/plain": [
       "RandomForestClassifier(criterion='entropy', random_state=42)"
      ]
     },
     "execution_count": 121,
     "metadata": {},
     "output_type": "execute_result"
    }
   ],
   "source": [
    "#Create random forest\n",
    "RF_vehiculoModerno_classifier = RandomForestClassifier(criterion = 'entropy', random_state = 42)\n",
    "RF_vehiculoModerno_classifier.fit(x_vehiculoModerno_train, y_vehiculoModerno_train)"
   ]
  },
  {
   "cell_type": "code",
   "execution_count": 122,
   "metadata": {},
   "outputs": [],
   "source": [
    "#Predict\n",
    "RF_vehiculoModerno_pred = RF_vehiculoModerno_classifier.predict(x_vehiculoModerno_test)"
   ]
  },
  {
   "cell_type": "code",
   "execution_count": 123,
   "metadata": {},
   "outputs": [
    {
     "name": "stdout",
     "output_type": "stream",
     "text": [
      "Testing Set Evaluation F1-Score=> 0.6471287128712871\n"
     ]
    }
   ],
   "source": [
    "#Accuracy\n",
    "print('Testing Set Evaluation F1-Score=>',metrics.accuracy_score(y_vehiculoModerno_test,RF_vehiculoModerno_pred))"
   ]
  }
 ],
 "metadata": {
  "interpreter": {
   "hash": "4b3ecf62df3181ebd0c4be78205c7b22b4b604af4ac49509235f8258639d7f26"
  },
  "kernelspec": {
   "display_name": "Python 3.8.8 64-bit ('base': conda)",
   "language": "python",
   "name": "python3"
  },
  "language_info": {
   "codemirror_mode": {
    "name": "ipython",
    "version": 3
   },
   "file_extension": ".py",
   "mimetype": "text/x-python",
   "name": "python",
   "nbconvert_exporter": "python",
   "pygments_lexer": "ipython3",
   "version": "3.8.8"
  },
  "orig_nbformat": 4
 },
 "nbformat": 4,
 "nbformat_minor": 2
}
